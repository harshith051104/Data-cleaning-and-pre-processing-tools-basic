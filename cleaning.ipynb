{
 "cells": [
  {
   "cell_type": "code",
   "execution_count": 1,
   "id": "103ccb7f",
   "metadata": {},
   "outputs": [],
   "source": [
    "import pandas as pd\n",
    "import numpy as np"
   ]
  },
  {
   "cell_type": "code",
   "execution_count": 3,
   "id": "85d0023e",
   "metadata": {},
   "outputs": [
    {
     "name": "stdout",
     "output_type": "stream",
     "text": [
      "    age  salary         city\n",
      "0  25.0   50000     New York\n",
      "1  28.0   54000  Los Angeles\n",
      "2   NaN   50000     New York\n",
      "3  35.0   60000      Chicago\n",
      "4  45.0  200000      Chicago\n",
      "5  45.0   54000  Los Angeles\n",
      "6  52.0   75000     New York\n",
      "7  80.0   80000       Boston\n"
     ]
    }
   ],
   "source": [
    "data = {\n",
    "    'age': [25, 28, np.nan, 35, 45, 45, 52, 80],\n",
    "    'salary': [50000, 54000, 50000, 60000, 200000, 54000, 75000, 80000],\n",
    "    'city': ['New York', 'Los Angeles', 'New York', 'Chicago', 'Chicago', 'Los Angeles', 'New York', 'Boston']\n",
    "}\n",
    "df = pd.DataFrame(data)\n",
    "print (df)"
   ]
  },
  {
   "cell_type": "code",
   "execution_count": 5,
   "id": "b47d436d",
   "metadata": {},
   "outputs": [
    {
     "name": "stdout",
     "output_type": "stream",
     "text": [
      "    age  salary         city\n",
      "0  25.0   50000     New York\n",
      "1  28.0   54000  Los Angeles\n",
      "2   NaN   50000     New York\n",
      "3  35.0   60000      Chicago\n",
      "4  45.0  200000      Chicago\n",
      "5  45.0   54000  Los Angeles\n",
      "6  52.0   75000     New York\n",
      "7  80.0   80000       Boston\n",
      "8  28.0   54000  Los Angeles\n",
      "9  28.0   54000  Los Angeles\n"
     ]
    }
   ],
   "source": [
    "duplicate_row = pd.DataFrame({'age': [28], 'salary': [54000], 'city': ['Los Angeles']})\n",
    "df = pd.concat([df, duplicate_row], ignore_index=True)\n",
    "print(df)"
   ]
  },
  {
   "cell_type": "code",
   "execution_count": 7,
   "id": "9664daa6",
   "metadata": {},
   "outputs": [
    {
     "name": "stdout",
     "output_type": "stream",
     "text": [
      "    age  salary         city\n",
      "0  25.0   50000     New York\n",
      "1  28.0   54000  Los Angeles\n",
      "2  35.0   50000     New York\n",
      "3  35.0   60000      Chicago\n",
      "4  45.0  200000      Chicago\n",
      "5  45.0   54000  Los Angeles\n",
      "6  52.0   75000     New York\n",
      "7  80.0   80000       Boston\n",
      "8  28.0   54000  Los Angeles\n",
      "9  28.0   54000  Los Angeles\n"
     ]
    },
    {
     "name": "stderr",
     "output_type": "stream",
     "text": [
      "C:\\Users\\sriha\\AppData\\Local\\Temp\\ipykernel_38688\\1315869789.py:2: FutureWarning: A value is trying to be set on a copy of a DataFrame or Series through chained assignment using an inplace method.\n",
      "The behavior will change in pandas 3.0. This inplace method will never work because the intermediate object on which we are setting values always behaves as a copy.\n",
      "\n",
      "For example, when doing 'df[col].method(value, inplace=True)', try using 'df.method({col: value}, inplace=True)' or df[col] = df[col].method(value) instead, to perform the operation inplace on the original object.\n",
      "\n",
      "\n",
      "  df['age'].fillna(median_age, inplace=True)\n"
     ]
    }
   ],
   "source": [
    "median_age = df['age'].median()\n",
    "df['age'].fillna(median_age, inplace=True)\n",
    "print(df)"
   ]
  },
  {
   "cell_type": "code",
   "execution_count": 8,
   "id": "dddcbc4d",
   "metadata": {},
   "outputs": [
    {
     "name": "stdout",
     "output_type": "stream",
     "text": [
      "    age  salary         city\n",
      "0  25.0   50000     New York\n",
      "1  28.0   54000  Los Angeles\n",
      "2  35.0   50000     New York\n",
      "3  35.0   60000      Chicago\n",
      "4  45.0  200000      Chicago\n",
      "5  45.0   54000  Los Angeles\n",
      "6  52.0   75000     New York\n",
      "7  80.0   80000       Boston\n"
     ]
    }
   ],
   "source": [
    "df.drop_duplicates(inplace=True)\n",
    "print(df)"
   ]
  },
  {
   "cell_type": "code",
   "execution_count": 10,
   "id": "1aca8f97",
   "metadata": {},
   "outputs": [
    {
     "name": "stdout",
     "output_type": "stream",
     "text": [
      "23250.0\n"
     ]
    }
   ],
   "source": [
    "Q1 = df['salary'].quantile(0.25)\n",
    "Q3 = df['salary'].quantile(0.75)\n",
    "IQR = Q3 - Q1\n",
    "print(IQR)"
   ]
  },
  {
   "cell_type": "code",
   "execution_count": 12,
   "id": "33b3a903",
   "metadata": {},
   "outputs": [
    {
     "name": "stdout",
     "output_type": "stream",
     "text": [
      "    age  salary         city\n",
      "0  25.0   50000     New York\n",
      "1  28.0   54000  Los Angeles\n",
      "2  35.0   50000     New York\n",
      "3  35.0   60000      Chicago\n",
      "5  45.0   54000  Los Angeles\n",
      "6  52.0   75000     New York\n",
      "7  80.0   80000       Boston\n"
     ]
    }
   ],
   "source": [
    "lower_bound = Q1 - 1.5 * IQR\n",
    "upper_bound = Q3 + 1.5 * IQR\n",
    "df_cleaned = df[(df['salary'] >= lower_bound) & (df['salary'] <= upper_bound)]\n",
    "print (df_cleaned)"
   ]
  }
 ],
 "metadata": {
  "kernelspec": {
   "display_name": "venv1",
   "language": "python",
   "name": "python3"
  },
  "language_info": {
   "codemirror_mode": {
    "name": "ipython",
    "version": 3
   },
   "file_extension": ".py",
   "mimetype": "text/x-python",
   "name": "python",
   "nbconvert_exporter": "python",
   "pygments_lexer": "ipython3",
   "version": "3.13.5"
  }
 },
 "nbformat": 4,
 "nbformat_minor": 5
}
